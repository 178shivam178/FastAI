{
 "cells": [
  {
   "cell_type": "code",
   "execution_count": 1,
   "metadata": {
    "_cell_guid": "79c7e3d0-c299-4dcb-8224-4455121ee9b0",
    "_uuid": "d629ff2d2480ee46fbb7e2d37f6b5fab8052498a"
   },
   "outputs": [],
   "source": [
    "import numpy as np \n",
    "import pandas as  pd\n",
    "data = pd.read_csv('../input/nlp-getting-started/train.csv')"
   ]
  },
  {
   "cell_type": "code",
   "execution_count": 2,
   "metadata": {},
   "outputs": [],
   "source": [
    "sentences=[]\n",
    "labels=[]\n",
    "for item in data:\n",
    "    sentences.append(data['text'])\n",
    "    labels.append(data['target'])"
   ]
  },
  {
   "cell_type": "code",
   "execution_count": 3,
   "metadata": {},
   "outputs": [],
   "source": [
    "sentences=sentences[0][0:7613]"
   ]
  },
  {
   "cell_type": "code",
   "execution_count": 4,
   "metadata": {},
   "outputs": [],
   "source": [
    "labels=labels[0][0:7613]"
   ]
  },
  {
   "cell_type": "code",
   "execution_count": 5,
   "metadata": {},
   "outputs": [],
   "source": [
    "test = pd.read_csv(\"/kaggle/input/nlp-getting-started/test.csv\")\n",
    "testing_sentences=[]\n",
    "for item in test:\n",
    "    testing_sentences.append(test['text'])"
   ]
  },
  {
   "cell_type": "code",
   "execution_count": 6,
   "metadata": {},
   "outputs": [],
   "source": [
    "testing_sentences=testing_sentences[0][0:3362]"
   ]
  },
  {
   "cell_type": "code",
   "execution_count": 7,
   "metadata": {},
   "outputs": [
    {
     "data": {
      "text/plain": [
       "'Just happened a terrible car crash'"
      ]
     },
     "execution_count": 7,
     "metadata": {},
     "output_type": "execute_result"
    }
   ],
   "source": [
    "testing_sentences[0]"
   ]
  },
  {
   "cell_type": "code",
   "execution_count": 8,
   "metadata": {},
   "outputs": [],
   "source": [
    "vocab_size=5000\n",
    "embedding_dim=16\n",
    "max_length=120\n",
    "trunc_type='post'\n",
    "oov_tok=\"<00V>\""
   ]
  },
  {
   "cell_type": "code",
   "execution_count": 9,
   "metadata": {},
   "outputs": [],
   "source": [
    "from tensorflow.keras.preprocessing.text import Tokenizer\n",
    "from tensorflow.keras.preprocessing.sequence import pad_sequences\n",
    "tokenizer=Tokenizer(num_words=vocab_size,oov_token=oov_tok)\n",
    "tokenizer.fit_on_texts(sentences)\n",
    "word_index=tokenizer.word_index\n",
    "sequences=tokenizer.texts_to_sequences(sentences)\n",
    "padded=pad_sequences(sequences,maxlen=max_length)\n",
    "\n",
    "testing_sequences=tokenizer.texts_to_sequences(testing_sentences)\n",
    "testing_padded=pad_sequences(testing_sequences,maxlen=max_length)"
   ]
  },
  {
   "cell_type": "code",
   "execution_count": 10,
   "metadata": {},
   "outputs": [
    {
     "name": "stdout",
     "output_type": "stream",
     "text": [
      "Our Deeds are the Reason of this #earthquake May ALLAH Forgive us all\n",
      "[   0    0    0    0    0    0    0    0    0    0    0    0    0    0\n",
      "    0    0    0    0    0    0    0    0    0    0    0    0    0    0\n",
      "    0    0    0    0    0    0    0    0    0    0    0    0    0    0\n",
      "    0    0    0    0    0    0    0    0    0    0    0    0    0    0\n",
      "    0    0    0    0    0    0    0    0    0    0    0    0    0    0\n",
      "    0    0    0    0    0    0    0    0    0    0    0    0    0    0\n",
      "    0    0    0    0    0    0    0    0    0    0    0    0    0    0\n",
      "    0    0    0    0    0    0    0    0    0  120 4634   25    5  869\n",
      "    9   22  264  139 1620 4635   90   41]\n"
     ]
    }
   ],
   "source": [
    "print(sentences[0])\n",
    "print(padded[0])"
   ]
  },
  {
   "cell_type": "code",
   "execution_count": 11,
   "metadata": {},
   "outputs": [
    {
     "name": "stdout",
     "output_type": "stream",
     "text": [
      "? ? ? ? ? ? ? ? ? ? ? ? ? ? ? ? ? ? ? ? ? ? ? ? ? ? ? ? ? ? ? ? ? ? ? ? ? ? ? ? ? ? ? ? ? ? ? ? ? ? ? ? ? ? ? ? ? ? ? ? ? ? ? ? ? ? ? ? ? ? ? ? ? ? ? ? ? ? ? ? ? ? ? ? ? ? ? ? ? ? ? ? ? ? ? ? ? ? ? ? ? ? ? ? ? ? ? our deeds are the reason of this earthquake may allah forgive us all\n",
      "Our Deeds are the Reason of this #earthquake May ALLAH Forgive us all\n"
     ]
    }
   ],
   "source": [
    "reverse_word_index=dict([(value,key) for (key,value) in word_index.items()])\n",
    "def decode_review(text):\n",
    "    return ' '.join([reverse_word_index.get(i,'?') for i in text])\n",
    "print(decode_review(padded[0]))\n",
    "print(sentences[0])"
   ]
  },
  {
   "cell_type": "code",
   "execution_count": 12,
   "metadata": {},
   "outputs": [
    {
     "name": "stderr",
     "output_type": "stream",
     "text": [
      "Using TensorFlow backend.\n"
     ]
    },
    {
     "name": "stdout",
     "output_type": "stream",
     "text": [
      "Model: \"sequential\"\n",
      "_________________________________________________________________\n",
      "Layer (type)                 Output Shape              Param #   \n",
      "=================================================================\n",
      "embedding (Embedding)        (None, 120, 16)           80000     \n",
      "_________________________________________________________________\n",
      "flatten (Flatten)            (None, 1920)              0         \n",
      "_________________________________________________________________\n",
      "dense (Dense)                (None, 6)                 11526     \n",
      "_________________________________________________________________\n",
      "dense_1 (Dense)              (None, 1)                 7         \n",
      "=================================================================\n",
      "Total params: 91,533\n",
      "Trainable params: 91,533\n",
      "Non-trainable params: 0\n",
      "_________________________________________________________________\n"
     ]
    }
   ],
   "source": [
    "import tensorflow as tf \n",
    "from keras.models import Sequential\n",
    "from keras.layers import Dense, Flatten\n",
    "model=tf.keras.Sequential([\n",
    "    tf.keras.layers.Embedding(vocab_size,embedding_dim,input_length=max_length),\n",
    "    tf.keras.layers.Flatten(),\n",
    "    tf.keras.layers.Dense(6,activation='relu'),\n",
    "    tf.keras.layers.Dense(1,activation='sigmoid')\n",
    "])\n",
    "model.compile(loss='binary_crossentropy',optimizer='adam',metrics=['accuracy'])\n",
    "model.summary()"
   ]
  },
  {
   "cell_type": "code",
   "execution_count": 13,
   "metadata": {},
   "outputs": [
    {
     "name": "stdout",
     "output_type": "stream",
     "text": [
      "Train on 7613 samples, validate on 7613 samples\n",
      "Epoch 1/20\n",
      "7613/7613 [==============================] - 4s 468us/sample - loss: 0.6272 - accuracy: 0.6372 - val_loss: 0.4841 - val_accuracy: 0.7935\n",
      "Epoch 2/20\n",
      "7613/7613 [==============================] - 2s 287us/sample - loss: 0.4288 - accuracy: 0.8177 - val_loss: 0.3333 - val_accuracy: 0.8701\n",
      "Epoch 3/20\n",
      "7613/7613 [==============================] - 2s 249us/sample - loss: 0.3226 - accuracy: 0.8713 - val_loss: 0.2504 - val_accuracy: 0.9087\n",
      "Epoch 4/20\n",
      "7613/7613 [==============================] - 2s 268us/sample - loss: 0.2490 - accuracy: 0.9073 - val_loss: 0.1853 - val_accuracy: 0.9380\n",
      "Epoch 5/20\n",
      "7613/7613 [==============================] - 2s 287us/sample - loss: 0.1871 - accuracy: 0.9334 - val_loss: 0.1350 - val_accuracy: 0.9539\n",
      "Epoch 6/20\n",
      "7613/7613 [==============================] - 2s 242us/sample - loss: 0.1384 - accuracy: 0.9544 - val_loss: 0.0977 - val_accuracy: 0.9706\n",
      "Epoch 7/20\n",
      "7613/7613 [==============================] - 2s 237us/sample - loss: 0.1060 - accuracy: 0.9666 - val_loss: 0.0769 - val_accuracy: 0.9746\n",
      "Epoch 8/20\n",
      "7613/7613 [==============================] - 2s 252us/sample - loss: 0.0857 - accuracy: 0.9707 - val_loss: 0.0678 - val_accuracy: 0.9785\n",
      "Epoch 9/20\n",
      "7613/7613 [==============================] - 2s 229us/sample - loss: 0.0730 - accuracy: 0.9743 - val_loss: 0.0557 - val_accuracy: 0.9817\n",
      "Epoch 10/20\n",
      "7613/7613 [==============================] - 2s 232us/sample - loss: 0.0649 - accuracy: 0.9774 - val_loss: 0.0489 - val_accuracy: 0.9825\n",
      "Epoch 11/20\n",
      "7613/7613 [==============================] - 2s 237us/sample - loss: 0.0616 - accuracy: 0.9769 - val_loss: 0.0475 - val_accuracy: 0.9825\n",
      "Epoch 12/20\n",
      "7613/7613 [==============================] - 2s 231us/sample - loss: 0.0558 - accuracy: 0.9802 - val_loss: 0.0439 - val_accuracy: 0.9842\n",
      "Epoch 13/20\n",
      "7613/7613 [==============================] - 2s 229us/sample - loss: 0.0526 - accuracy: 0.9787 - val_loss: 0.0416 - val_accuracy: 0.9821\n",
      "Epoch 14/20\n",
      "7613/7613 [==============================] - 2s 229us/sample - loss: 0.0524 - accuracy: 0.9795 - val_loss: 0.0378 - val_accuracy: 0.9845\n",
      "Epoch 15/20\n",
      "7613/7613 [==============================] - 2s 252us/sample - loss: 0.0511 - accuracy: 0.9782 - val_loss: 0.0399 - val_accuracy: 0.9842\n",
      "Epoch 16/20\n",
      "7613/7613 [==============================] - 2s 233us/sample - loss: 0.0503 - accuracy: 0.9799 - val_loss: 0.0366 - val_accuracy: 0.9846\n",
      "Epoch 17/20\n",
      "7613/7613 [==============================] - 2s 233us/sample - loss: 0.0461 - accuracy: 0.9800 - val_loss: 0.0396 - val_accuracy: 0.9844\n",
      "Epoch 18/20\n",
      "7613/7613 [==============================] - 2s 227us/sample - loss: 0.0485 - accuracy: 0.9796 - val_loss: 0.0337 - val_accuracy: 0.9848\n",
      "Epoch 19/20\n",
      "7613/7613 [==============================] - 2s 228us/sample - loss: 0.0460 - accuracy: 0.9796 - val_loss: 0.0347 - val_accuracy: 0.9857\n",
      "Epoch 20/20\n",
      "7613/7613 [==============================] - 2s 232us/sample - loss: 0.0466 - accuracy: 0.9802 - val_loss: 0.0341 - val_accuracy: 0.9845\n"
     ]
    },
    {
     "data": {
      "text/plain": [
       "<tensorflow.python.keras.callbacks.History at 0x7f9e5c0577f0>"
      ]
     },
     "execution_count": 13,
     "metadata": {},
     "output_type": "execute_result"
    }
   ],
   "source": [
    "import numpy as np\n",
    "num_epochs=20\n",
    "model.fit(np.array(padded),np.array(labels),epochs=num_epochs,validation_data=(np.array(padded),np.array(labels)))"
   ]
  },
  {
   "cell_type": "code",
   "execution_count": 14,
   "metadata": {},
   "outputs": [
    {
     "name": "stdout",
     "output_type": "stream",
     "text": [
      "3263/3263 [==============================] - 0s 88us/sample\n"
     ]
    }
   ],
   "source": [
    "y_submit=model.predict(testing_padded,batch_size=32,verbose=1)"
   ]
  },
  {
   "cell_type": "code",
   "execution_count": 15,
   "metadata": {},
   "outputs": [],
   "source": [
    "y_submit = y_submit.round().astype('int')"
   ]
  },
  {
   "cell_type": "code",
   "execution_count": 16,
   "metadata": {},
   "outputs": [
    {
     "data": {
      "text/plain": [
       "array([[1],\n",
       "       [1],\n",
       "       [0],\n",
       "       [1],\n",
       "       [1],\n",
       "       [0],\n",
       "       [0],\n",
       "       [0],\n",
       "       [0],\n",
       "       [0],\n",
       "       [0],\n",
       "       [0],\n",
       "       [0],\n",
       "       [0],\n",
       "       [1],\n",
       "       [0],\n",
       "       [1],\n",
       "       [0],\n",
       "       [0],\n",
       "       [0],\n",
       "       [0],\n",
       "       [0],\n",
       "       [1],\n",
       "       [0],\n",
       "       [0],\n",
       "       [0],\n",
       "       [1],\n",
       "       [0],\n",
       "       [1],\n",
       "       [0],\n",
       "       [1],\n",
       "       [1],\n",
       "       [0],\n",
       "       [1],\n",
       "       [0],\n",
       "       [1],\n",
       "       [0],\n",
       "       [0],\n",
       "       [1],\n",
       "       [0],\n",
       "       [0],\n",
       "       [1],\n",
       "       [1],\n",
       "       [0],\n",
       "       [0],\n",
       "       [0],\n",
       "       [0],\n",
       "       [0],\n",
       "       [0],\n",
       "       [0],\n",
       "       [0],\n",
       "       [1],\n",
       "       [0],\n",
       "       [0],\n",
       "       [0],\n",
       "       [0],\n",
       "       [0],\n",
       "       [0],\n",
       "       [0],\n",
       "       [1],\n",
       "       [0],\n",
       "       [0],\n",
       "       [1],\n",
       "       [1],\n",
       "       [1],\n",
       "       [0],\n",
       "       [1],\n",
       "       [1],\n",
       "       [0],\n",
       "       [0],\n",
       "       [1],\n",
       "       [1],\n",
       "       [1],\n",
       "       [1],\n",
       "       [1],\n",
       "       [0],\n",
       "       [0],\n",
       "       [0],\n",
       "       [1],\n",
       "       [1],\n",
       "       [1],\n",
       "       [0],\n",
       "       [1],\n",
       "       [1],\n",
       "       [1],\n",
       "       [0],\n",
       "       [1],\n",
       "       [1],\n",
       "       [1],\n",
       "       [1],\n",
       "       [0],\n",
       "       [0],\n",
       "       [0],\n",
       "       [0],\n",
       "       [0],\n",
       "       [0],\n",
       "       [0],\n",
       "       [0],\n",
       "       [0]])"
      ]
     },
     "execution_count": 16,
     "metadata": {},
     "output_type": "execute_result"
    }
   ],
   "source": [
    "y_submit[1:100]"
   ]
  },
  {
   "cell_type": "code",
   "execution_count": 17,
   "metadata": {},
   "outputs": [],
   "source": [
    "sample_submission=pd.read_csv('../input/nlp-getting-started/sample_submission.csv')"
   ]
  },
  {
   "cell_type": "code",
   "execution_count": 18,
   "metadata": {},
   "outputs": [],
   "source": [
    "sample_submission['target']=y_submit\n",
    "sample_submission.to_csv('submission.csv',index=False)"
   ]
  },
  {
   "cell_type": "code",
   "execution_count": null,
   "metadata": {},
   "outputs": [],
   "source": []
  }
 ],
 "metadata": {
  "kernelspec": {
   "display_name": "Python 3",
   "language": "python",
   "name": "python3"
  },
  "language_info": {
   "codemirror_mode": {
    "name": "ipython",
    "version": 3
   },
   "file_extension": ".py",
   "mimetype": "text/x-python",
   "name": "python",
   "nbconvert_exporter": "python",
   "pygments_lexer": "ipython3",
   "version": "3.6.6"
  }
 },
 "nbformat": 4,
 "nbformat_minor": 4
}
